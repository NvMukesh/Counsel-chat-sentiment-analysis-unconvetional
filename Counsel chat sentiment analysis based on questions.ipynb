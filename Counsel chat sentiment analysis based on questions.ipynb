{
 "cells": [
  {
   "cell_type": "code",
   "execution_count": 55,
   "metadata": {},
   "outputs": [
    {
     "data": {
      "text/html": [
       "        <script type=\"text/javascript\">\n",
       "        window.PlotlyConfig = {MathJaxConfig: 'local'};\n",
       "        if (window.MathJax) {MathJax.Hub.Config({SVG: {font: \"STIX-Web\"}});}\n",
       "        if (typeof require !== 'undefined') {\n",
       "        require.undef(\"plotly\");\n",
       "        requirejs.config({\n",
       "            paths: {\n",
       "                'plotly': ['https://cdn.plot.ly/plotly-2.9.0.min']\n",
       "            }\n",
       "        });\n",
       "        require(['plotly'], function(Plotly) {\n",
       "            window._Plotly = Plotly;\n",
       "        });\n",
       "        }\n",
       "        </script>\n",
       "        "
      ]
     },
     "metadata": {},
     "output_type": "display_data"
    }
   ],
   "source": [
    "import pandas as pd\n",
    "import numpy as np\n",
    "import matplotlib.pyplot as plt\n",
    "import seaborn as sns\n",
    "from sklearn.model_selection import train_test_split\n",
    "from sklearn.preprocessing import LabelEncoder\n",
    "from keras.models import Model\n",
    "from keras.layers import SimpleRNN, Activation, Dense, Dropout, Input, Embedding, LSTM\n",
    "from keras.optimizers import RMSprop\n",
    "from keras.preprocessing.text import Tokenizer\n",
    "from keras.preprocessing import sequence\n",
    "from keras.utils import to_categorical\n",
    "from keras.callbacks import EarlyStopping\n",
    "%matplotlib inline\n",
    "\n",
    "\n",
    "\n",
    "import json \n",
    "import numpy as np \n",
    "import tensorflow as tf\n",
    "from tensorflow import keras\n",
    "from tensorflow.keras.models import Sequential\n",
    "from tensorflow.keras.layers import Dense, Embedding, GlobalAveragePooling1D,Dropout\n",
    "from tensorflow.keras.preprocessing.text import Tokenizer\n",
    "from tensorflow.keras.preprocessing.sequence import pad_sequences\n",
    "\n",
    "from tensorflow.keras.layers.experimental.preprocessing import TextVectorization\n",
    "\n",
    "\n",
    "from keras.preprocessing.text import Tokenizer\n",
    "#from keras.preprocessing.sequence import pad_sequences\n",
    "from keras.layers import Dense, Embedding, LSTM, SpatialDropout1D, Bidirectional, Dropout\n",
    "from sklearn.preprocessing import LabelEncoder\n",
    "import warnings\n",
    "warnings.filterwarnings(\"ignore\")\n",
    "\n",
    "\n",
    "import pandas as pd\n",
    "import matplotlib.pyplot as plt\n",
    "import seaborn as sns\n",
    "\n",
    "\n",
    "import numpy as np \n",
    "import pandas as pd\n",
    "import matplotlib.pyplot as plt\n",
    "import seaborn as sns\n",
    "from keras.preprocessing.text import Tokenizer\n",
    "#from keras.preprocessing.sequence import pad_sequences\n",
    "from keras.models import Sequential\n",
    "from keras.layers import Dense, Embedding, LSTM, SpatialDropout1D\n",
    "from sklearn.model_selection import train_test_split\n",
    "from keras.utils.np_utils import to_categorical\n",
    "from keras.callbacks import EarlyStopping\n",
    "from keras.layers import Dropout\n",
    "import re\n",
    "from nltk.corpus import stopwords\n",
    "from nltk import word_tokenize\n",
    "STOPWORDS = set(stopwords.words('english'))\n",
    "from bs4 import BeautifulSoup\n",
    "\"\"\"import plotly.graph_objs as go\n",
    "import plotly.plotly as py\"\"\"\n",
    "import cufflinks\n",
    "from IPython.core.interactiveshell import InteractiveShell\n",
    "import plotly.figure_factory as ff\n",
    "InteractiveShell.ast_node_interactivity = 'all'\n",
    "from plotly.offline import iplot\n",
    "cufflinks.go_offline()\n",
    "cufflinks.set_config_file(world_readable=True, theme='pearl')"
   ]
  },
  {
   "cell_type": "code",
   "execution_count": 54,
   "metadata": {},
   "outputs": [
    {
     "name": "stdout",
     "output_type": "stream",
     "text": [
      "Defaulting to user installation because normal site-packages is not writeable\n",
      "Collecting cufflinks\n",
      "  Downloading cufflinks-0.17.3.tar.gz (81 kB)\n",
      "Requirement already satisfied: numpy>=1.9.2 in e:\\phython\\lib\\site-packages (from cufflinks) (1.21.5)\n",
      "Requirement already satisfied: pandas>=0.19.2 in e:\\phython\\lib\\site-packages (from cufflinks) (1.4.2)\n",
      "Requirement already satisfied: plotly>=4.1.1 in e:\\phython\\lib\\site-packages (from cufflinks) (5.6.0)\n",
      "Requirement already satisfied: six>=1.9.0 in e:\\phython\\lib\\site-packages (from cufflinks) (1.16.0)\n",
      "Collecting colorlover>=0.2.1\n",
      "  Downloading colorlover-0.3.0-py3-none-any.whl (8.9 kB)\n",
      "Requirement already satisfied: setuptools>=34.4.1 in e:\\phython\\lib\\site-packages (from cufflinks) (61.2.0)\n",
      "Requirement already satisfied: ipython>=5.3.0 in e:\\phython\\lib\\site-packages (from cufflinks) (8.2.0)\n",
      "Requirement already satisfied: ipywidgets>=7.0.0 in e:\\phython\\lib\\site-packages (from cufflinks) (7.6.5)\n",
      "Requirement already satisfied: stack-data in e:\\phython\\lib\\site-packages (from ipython>=5.3.0->cufflinks) (0.2.0)\n",
      "Requirement already satisfied: prompt-toolkit!=3.0.0,!=3.0.1,<3.1.0,>=2.0.0 in e:\\phython\\lib\\site-packages (from ipython>=5.3.0->cufflinks) (3.0.20)\n",
      "Requirement already satisfied: backcall in e:\\phython\\lib\\site-packages (from ipython>=5.3.0->cufflinks) (0.2.0)\n",
      "Requirement already satisfied: colorama in e:\\phython\\lib\\site-packages (from ipython>=5.3.0->cufflinks) (0.4.4)\n",
      "Requirement already satisfied: pickleshare in e:\\phython\\lib\\site-packages (from ipython>=5.3.0->cufflinks) (0.7.5)\n",
      "Requirement already satisfied: matplotlib-inline in e:\\phython\\lib\\site-packages (from ipython>=5.3.0->cufflinks) (0.1.2)\n",
      "Requirement already satisfied: decorator in e:\\phython\\lib\\site-packages (from ipython>=5.3.0->cufflinks) (5.1.1)\n",
      "Requirement already satisfied: jedi>=0.16 in e:\\phython\\lib\\site-packages (from ipython>=5.3.0->cufflinks) (0.18.1)\n",
      "Requirement already satisfied: pygments>=2.4.0 in e:\\phython\\lib\\site-packages (from ipython>=5.3.0->cufflinks) (2.11.2)\n",
      "Requirement already satisfied: traitlets>=5 in e:\\phython\\lib\\site-packages (from ipython>=5.3.0->cufflinks) (5.1.1)\n",
      "Requirement already satisfied: nbformat>=4.2.0 in e:\\phython\\lib\\site-packages (from ipywidgets>=7.0.0->cufflinks) (5.3.0)\n",
      "Requirement already satisfied: ipython-genutils~=0.2.0 in e:\\phython\\lib\\site-packages (from ipywidgets>=7.0.0->cufflinks) (0.2.0)\n",
      "Requirement already satisfied: jupyterlab-widgets>=1.0.0 in e:\\phython\\lib\\site-packages (from ipywidgets>=7.0.0->cufflinks) (1.0.0)\n",
      "Requirement already satisfied: widgetsnbextension~=3.5.0 in e:\\phython\\lib\\site-packages (from ipywidgets>=7.0.0->cufflinks) (3.5.2)\n",
      "Requirement already satisfied: ipykernel>=4.5.1 in e:\\phython\\lib\\site-packages (from ipywidgets>=7.0.0->cufflinks) (6.9.1)\n",
      "Requirement already satisfied: tornado<7.0,>=4.2 in e:\\phython\\lib\\site-packages (from ipykernel>=4.5.1->ipywidgets>=7.0.0->cufflinks) (6.1)\n",
      "Requirement already satisfied: debugpy<2.0,>=1.0.0 in e:\\phython\\lib\\site-packages (from ipykernel>=4.5.1->ipywidgets>=7.0.0->cufflinks) (1.5.1)\n",
      "Requirement already satisfied: jupyter-client<8.0 in e:\\phython\\lib\\site-packages (from ipykernel>=4.5.1->ipywidgets>=7.0.0->cufflinks) (6.1.12)\n",
      "Requirement already satisfied: nest-asyncio in e:\\phython\\lib\\site-packages (from ipykernel>=4.5.1->ipywidgets>=7.0.0->cufflinks) (1.5.5)\n",
      "Requirement already satisfied: parso<0.9.0,>=0.8.0 in e:\\phython\\lib\\site-packages (from jedi>=0.16->ipython>=5.3.0->cufflinks) (0.8.3)\n",
      "Requirement already satisfied: jupyter-core>=4.6.0 in e:\\phython\\lib\\site-packages (from jupyter-client<8.0->ipykernel>=4.5.1->ipywidgets>=7.0.0->cufflinks) (4.9.2)\n",
      "Requirement already satisfied: pyzmq>=13 in e:\\phython\\lib\\site-packages (from jupyter-client<8.0->ipykernel>=4.5.1->ipywidgets>=7.0.0->cufflinks) (22.3.0)\n",
      "Requirement already satisfied: python-dateutil>=2.1 in e:\\phython\\lib\\site-packages (from jupyter-client<8.0->ipykernel>=4.5.1->ipywidgets>=7.0.0->cufflinks) (2.8.2)\n",
      "Requirement already satisfied: pywin32>=1.0 in e:\\phython\\lib\\site-packages (from jupyter-core>=4.6.0->jupyter-client<8.0->ipykernel>=4.5.1->ipywidgets>=7.0.0->cufflinks) (302)\n",
      "Requirement already satisfied: fastjsonschema in e:\\phython\\lib\\site-packages (from nbformat>=4.2.0->ipywidgets>=7.0.0->cufflinks) (2.15.1)\n",
      "Requirement already satisfied: jsonschema>=2.6 in e:\\phython\\lib\\site-packages (from nbformat>=4.2.0->ipywidgets>=7.0.0->cufflinks) (4.4.0)\n",
      "Requirement already satisfied: pyrsistent!=0.17.0,!=0.17.1,!=0.17.2,>=0.14.0 in e:\\phython\\lib\\site-packages (from jsonschema>=2.6->nbformat>=4.2.0->ipywidgets>=7.0.0->cufflinks) (0.18.0)\n",
      "Requirement already satisfied: attrs>=17.4.0 in e:\\phython\\lib\\site-packages (from jsonschema>=2.6->nbformat>=4.2.0->ipywidgets>=7.0.0->cufflinks) (21.4.0)\n",
      "Requirement already satisfied: pytz>=2020.1 in e:\\phython\\lib\\site-packages (from pandas>=0.19.2->cufflinks) (2021.3)\n",
      "Requirement already satisfied: tenacity>=6.2.0 in e:\\phython\\lib\\site-packages (from plotly>=4.1.1->cufflinks) (8.0.1)\n",
      "Requirement already satisfied: wcwidth in e:\\phython\\lib\\site-packages (from prompt-toolkit!=3.0.0,!=3.0.1,<3.1.0,>=2.0.0->ipython>=5.3.0->cufflinks) (0.2.5)\n",
      "Requirement already satisfied: notebook>=4.4.1 in e:\\phython\\lib\\site-packages (from widgetsnbextension~=3.5.0->ipywidgets>=7.0.0->cufflinks) (6.4.8)\n",
      "Requirement already satisfied: nbconvert in e:\\phython\\lib\\site-packages (from notebook>=4.4.1->widgetsnbextension~=3.5.0->ipywidgets>=7.0.0->cufflinks) (6.4.4)\n",
      "Requirement already satisfied: jinja2 in e:\\phython\\lib\\site-packages (from notebook>=4.4.1->widgetsnbextension~=3.5.0->ipywidgets>=7.0.0->cufflinks) (2.11.3)\n",
      "Requirement already satisfied: prometheus-client in e:\\phython\\lib\\site-packages (from notebook>=4.4.1->widgetsnbextension~=3.5.0->ipywidgets>=7.0.0->cufflinks) (0.13.1)\n",
      "Requirement already satisfied: Send2Trash>=1.8.0 in e:\\phython\\lib\\site-packages (from notebook>=4.4.1->widgetsnbextension~=3.5.0->ipywidgets>=7.0.0->cufflinks) (1.8.0)\n",
      "Requirement already satisfied: argon2-cffi in e:\\phython\\lib\\site-packages (from notebook>=4.4.1->widgetsnbextension~=3.5.0->ipywidgets>=7.0.0->cufflinks) (21.3.0)\n",
      "Requirement already satisfied: terminado>=0.8.3 in e:\\phython\\lib\\site-packages (from notebook>=4.4.1->widgetsnbextension~=3.5.0->ipywidgets>=7.0.0->cufflinks) (0.13.1)\n",
      "Requirement already satisfied: pywinpty>=1.1.0 in e:\\phython\\lib\\site-packages (from terminado>=0.8.3->notebook>=4.4.1->widgetsnbextension~=3.5.0->ipywidgets>=7.0.0->cufflinks) (2.0.2)\n",
      "Requirement already satisfied: argon2-cffi-bindings in e:\\phython\\lib\\site-packages (from argon2-cffi->notebook>=4.4.1->widgetsnbextension~=3.5.0->ipywidgets>=7.0.0->cufflinks) (21.2.0)\n",
      "Requirement already satisfied: cffi>=1.0.1 in e:\\phython\\lib\\site-packages (from argon2-cffi-bindings->argon2-cffi->notebook>=4.4.1->widgetsnbextension~=3.5.0->ipywidgets>=7.0.0->cufflinks) (1.15.0)\n",
      "Requirement already satisfied: pycparser in e:\\phython\\lib\\site-packages (from cffi>=1.0.1->argon2-cffi-bindings->argon2-cffi->notebook>=4.4.1->widgetsnbextension~=3.5.0->ipywidgets>=7.0.0->cufflinks) (2.21)\n",
      "Requirement already satisfied: MarkupSafe>=0.23 in e:\\phython\\lib\\site-packages (from jinja2->notebook>=4.4.1->widgetsnbextension~=3.5.0->ipywidgets>=7.0.0->cufflinks) (2.0.1)\n",
      "Requirement already satisfied: beautifulsoup4 in e:\\phython\\lib\\site-packages (from nbconvert->notebook>=4.4.1->widgetsnbextension~=3.5.0->ipywidgets>=7.0.0->cufflinks) (4.11.1)\n",
      "Requirement already satisfied: pandocfilters>=1.4.1 in e:\\phython\\lib\\site-packages (from nbconvert->notebook>=4.4.1->widgetsnbextension~=3.5.0->ipywidgets>=7.0.0->cufflinks) (1.5.0)\n",
      "Requirement already satisfied: entrypoints>=0.2.2 in e:\\phython\\lib\\site-packages (from nbconvert->notebook>=4.4.1->widgetsnbextension~=3.5.0->ipywidgets>=7.0.0->cufflinks) (0.4)\n",
      "Requirement already satisfied: nbclient<0.6.0,>=0.5.0 in e:\\phython\\lib\\site-packages (from nbconvert->notebook>=4.4.1->widgetsnbextension~=3.5.0->ipywidgets>=7.0.0->cufflinks) (0.5.13)\n",
      "Requirement already satisfied: bleach in e:\\phython\\lib\\site-packages (from nbconvert->notebook>=4.4.1->widgetsnbextension~=3.5.0->ipywidgets>=7.0.0->cufflinks) (4.1.0)\n",
      "Requirement already satisfied: jupyterlab-pygments in e:\\phython\\lib\\site-packages (from nbconvert->notebook>=4.4.1->widgetsnbextension~=3.5.0->ipywidgets>=7.0.0->cufflinks) (0.1.2)\n",
      "Requirement already satisfied: defusedxml in e:\\phython\\lib\\site-packages (from nbconvert->notebook>=4.4.1->widgetsnbextension~=3.5.0->ipywidgets>=7.0.0->cufflinks) (0.7.1)\n",
      "Requirement already satisfied: mistune<2,>=0.8.1 in e:\\phython\\lib\\site-packages (from nbconvert->notebook>=4.4.1->widgetsnbextension~=3.5.0->ipywidgets>=7.0.0->cufflinks) (0.8.4)\n",
      "Requirement already satisfied: testpath in e:\\phython\\lib\\site-packages (from nbconvert->notebook>=4.4.1->widgetsnbextension~=3.5.0->ipywidgets>=7.0.0->cufflinks) (0.5.0)\n",
      "Requirement already satisfied: soupsieve>1.2 in e:\\phython\\lib\\site-packages (from beautifulsoup4->nbconvert->notebook>=4.4.1->widgetsnbextension~=3.5.0->ipywidgets>=7.0.0->cufflinks) (2.3.1)\n",
      "Requirement already satisfied: packaging in e:\\phython\\lib\\site-packages (from bleach->nbconvert->notebook>=4.4.1->widgetsnbextension~=3.5.0->ipywidgets>=7.0.0->cufflinks) (21.3)\n",
      "Requirement already satisfied: webencodings in e:\\phython\\lib\\site-packages (from bleach->nbconvert->notebook>=4.4.1->widgetsnbextension~=3.5.0->ipywidgets>=7.0.0->cufflinks) (0.5.1)\n",
      "Requirement already satisfied: pyparsing!=3.0.5,>=2.0.2 in e:\\phython\\lib\\site-packages (from packaging->bleach->nbconvert->notebook>=4.4.1->widgetsnbextension~=3.5.0->ipywidgets>=7.0.0->cufflinks) (3.0.4)\n",
      "Requirement already satisfied: pure-eval in e:\\phython\\lib\\site-packages (from stack-data->ipython>=5.3.0->cufflinks) (0.2.2)\n",
      "Requirement already satisfied: executing in e:\\phython\\lib\\site-packages (from stack-data->ipython>=5.3.0->cufflinks) (0.8.3)\n",
      "Requirement already satisfied: asttokens in e:\\phython\\lib\\site-packages (from stack-data->ipython>=5.3.0->cufflinks) (2.0.5)\n",
      "Building wheels for collected packages: cufflinks\n",
      "  Building wheel for cufflinks (setup.py): started\n",
      "  Building wheel for cufflinks (setup.py): finished with status 'done'\n",
      "  Created wheel for cufflinks: filename=cufflinks-0.17.3-py3-none-any.whl size=68736 sha256=af171b10a548fb818f284d8f0bccdec9578aaac02de11e882929bca541133619\n",
      "  Stored in directory: c:\\users\\nvmuk\\appdata\\local\\pip\\cache\\wheels\\29\\b4\\f8\\2fd2206eeeba6ccad8167e4e8894b8c4ec27bf1342037fd136\n",
      "Successfully built cufflinks\n",
      "Installing collected packages: colorlover, cufflinks\n",
      "Successfully installed colorlover-0.3.0 cufflinks-0.17.3\n"
     ]
    }
   ],
   "source": []
  },
  {
   "cell_type": "code",
   "execution_count": 2,
   "metadata": {},
   "outputs": [
    {
     "data": {
      "text/html": [
       "<div>\n",
       "<style scoped>\n",
       "    .dataframe tbody tr th:only-of-type {\n",
       "        vertical-align: middle;\n",
       "    }\n",
       "\n",
       "    .dataframe tbody tr th {\n",
       "        vertical-align: top;\n",
       "    }\n",
       "\n",
       "    .dataframe thead th {\n",
       "        text-align: right;\n",
       "    }\n",
       "</style>\n",
       "<table border=\"1\" class=\"dataframe\">\n",
       "  <thead>\n",
       "    <tr style=\"text-align: right;\">\n",
       "      <th></th>\n",
       "      <th>questionTitle</th>\n",
       "      <th>questionText</th>\n",
       "      <th>topic</th>\n",
       "      <th>answerText</th>\n",
       "    </tr>\n",
       "  </thead>\n",
       "  <tbody>\n",
       "    <tr>\n",
       "      <th>0</th>\n",
       "      <td>Can I change my feeling of being worthless to ...</td>\n",
       "      <td>I'm going through some things with my feelings...</td>\n",
       "      <td>depression</td>\n",
       "      <td>If everyone thinks you're worthless, then mayb...</td>\n",
       "    </tr>\n",
       "    <tr>\n",
       "      <th>1</th>\n",
       "      <td>Can I change my feeling of being worthless to ...</td>\n",
       "      <td>I'm going through some things with my feelings...</td>\n",
       "      <td>depression</td>\n",
       "      <td>Hello, and thank you for your question and see...</td>\n",
       "    </tr>\n",
       "    <tr>\n",
       "      <th>2</th>\n",
       "      <td>Can I change my feeling of being worthless to ...</td>\n",
       "      <td>I'm going through some things with my feelings...</td>\n",
       "      <td>depression</td>\n",
       "      <td>First thing I'd suggest is getting the sleep y...</td>\n",
       "    </tr>\n",
       "    <tr>\n",
       "      <th>3</th>\n",
       "      <td>Can I change my feeling of being worthless to ...</td>\n",
       "      <td>I'm going through some things with my feelings...</td>\n",
       "      <td>depression</td>\n",
       "      <td>Therapy is essential for those that are feelin...</td>\n",
       "    </tr>\n",
       "    <tr>\n",
       "      <th>4</th>\n",
       "      <td>Can I change my feeling of being worthless to ...</td>\n",
       "      <td>I'm going through some things with my feelings...</td>\n",
       "      <td>depression</td>\n",
       "      <td>I first want to let you know that you are not ...</td>\n",
       "    </tr>\n",
       "  </tbody>\n",
       "</table>\n",
       "</div>"
      ],
      "text/plain": [
       "                                       questionTitle  \\\n",
       "0  Can I change my feeling of being worthless to ...   \n",
       "1  Can I change my feeling of being worthless to ...   \n",
       "2  Can I change my feeling of being worthless to ...   \n",
       "3  Can I change my feeling of being worthless to ...   \n",
       "4  Can I change my feeling of being worthless to ...   \n",
       "\n",
       "                                        questionText       topic  \\\n",
       "0  I'm going through some things with my feelings...  depression   \n",
       "1  I'm going through some things with my feelings...  depression   \n",
       "2  I'm going through some things with my feelings...  depression   \n",
       "3  I'm going through some things with my feelings...  depression   \n",
       "4  I'm going through some things with my feelings...  depression   \n",
       "\n",
       "                                          answerText  \n",
       "0  If everyone thinks you're worthless, then mayb...  \n",
       "1  Hello, and thank you for your question and see...  \n",
       "2  First thing I'd suggest is getting the sleep y...  \n",
       "3  Therapy is essential for those that are feelin...  \n",
       "4  I first want to let you know that you are not ...  "
      ]
     },
     "execution_count": 2,
     "metadata": {},
     "output_type": "execute_result"
    }
   ],
   "source": [
    "data = pd.read_csv(r\"E:\\DS workspace\\ML DL Python\\Project\\chat corpus\\rnn text classfication\\counsel_chat.csv\")\n",
    "data.head()"
   ]
  },
  {
   "cell_type": "code",
   "execution_count": 3,
   "metadata": {},
   "outputs": [
    {
     "data": {
      "text/plain": [
       "Index(['questionTitle', 'questionText', 'topic', 'answerText'], dtype='object')"
      ]
     },
     "execution_count": 3,
     "metadata": {},
     "output_type": "execute_result"
    }
   ],
   "source": [
    "data.columns"
   ]
  },
  {
   "cell_type": "code",
   "execution_count": 4,
   "metadata": {},
   "outputs": [
    {
     "data": {
      "text/html": [
       "<div>\n",
       "<style scoped>\n",
       "    .dataframe tbody tr th:only-of-type {\n",
       "        vertical-align: middle;\n",
       "    }\n",
       "\n",
       "    .dataframe tbody tr th {\n",
       "        vertical-align: top;\n",
       "    }\n",
       "\n",
       "    .dataframe thead th {\n",
       "        text-align: right;\n",
       "    }\n",
       "</style>\n",
       "<table border=\"1\" class=\"dataframe\">\n",
       "  <thead>\n",
       "    <tr style=\"text-align: right;\">\n",
       "      <th></th>\n",
       "      <th>questionText</th>\n",
       "      <th>topic</th>\n",
       "    </tr>\n",
       "  </thead>\n",
       "  <tbody>\n",
       "    <tr>\n",
       "      <th>0</th>\n",
       "      <td>I'm going through some things with my feelings...</td>\n",
       "      <td>depression</td>\n",
       "    </tr>\n",
       "    <tr>\n",
       "      <th>1</th>\n",
       "      <td>I'm going through some things with my feelings...</td>\n",
       "      <td>depression</td>\n",
       "    </tr>\n",
       "    <tr>\n",
       "      <th>2</th>\n",
       "      <td>I'm going through some things with my feelings...</td>\n",
       "      <td>depression</td>\n",
       "    </tr>\n",
       "    <tr>\n",
       "      <th>3</th>\n",
       "      <td>I'm going through some things with my feelings...</td>\n",
       "      <td>depression</td>\n",
       "    </tr>\n",
       "    <tr>\n",
       "      <th>4</th>\n",
       "      <td>I'm going through some things with my feelings...</td>\n",
       "      <td>depression</td>\n",
       "    </tr>\n",
       "  </tbody>\n",
       "</table>\n",
       "</div>"
      ],
      "text/plain": [
       "                                        questionText       topic\n",
       "0  I'm going through some things with my feelings...  depression\n",
       "1  I'm going through some things with my feelings...  depression\n",
       "2  I'm going through some things with my feelings...  depression\n",
       "3  I'm going through some things with my feelings...  depression\n",
       "4  I'm going through some things with my feelings...  depression"
      ]
     },
     "execution_count": 4,
     "metadata": {},
     "output_type": "execute_result"
    }
   ],
   "source": [
    "data_q = data[[\"questionText\",\"topic\"]]\n",
    "data_q.head()"
   ]
  },
  {
   "cell_type": "code",
   "execution_count": 85,
   "metadata": {},
   "outputs": [
    {
     "data": {
      "text/html": [
       "<div>\n",
       "<style scoped>\n",
       "    .dataframe tbody tr th:only-of-type {\n",
       "        vertical-align: middle;\n",
       "    }\n",
       "\n",
       "    .dataframe tbody tr th {\n",
       "        vertical-align: top;\n",
       "    }\n",
       "\n",
       "    .dataframe thead th {\n",
       "        text-align: right;\n",
       "    }\n",
       "</style>\n",
       "<table border=\"1\" class=\"dataframe\">\n",
       "  <thead>\n",
       "    <tr style=\"text-align: right;\">\n",
       "      <th></th>\n",
       "      <th>answerText</th>\n",
       "      <th>topic</th>\n",
       "    </tr>\n",
       "  </thead>\n",
       "  <tbody>\n",
       "    <tr>\n",
       "      <th>0</th>\n",
       "      <td>If everyone thinks you're worthless, then mayb...</td>\n",
       "      <td>depression</td>\n",
       "    </tr>\n",
       "    <tr>\n",
       "      <th>1</th>\n",
       "      <td>Hello, and thank you for your question and see...</td>\n",
       "      <td>depression</td>\n",
       "    </tr>\n",
       "    <tr>\n",
       "      <th>2</th>\n",
       "      <td>First thing I'd suggest is getting the sleep y...</td>\n",
       "      <td>depression</td>\n",
       "    </tr>\n",
       "    <tr>\n",
       "      <th>3</th>\n",
       "      <td>Therapy is essential for those that are feelin...</td>\n",
       "      <td>depression</td>\n",
       "    </tr>\n",
       "    <tr>\n",
       "      <th>4</th>\n",
       "      <td>I first want to let you know that you are not ...</td>\n",
       "      <td>depression</td>\n",
       "    </tr>\n",
       "  </tbody>\n",
       "</table>\n",
       "</div>"
      ],
      "text/plain": [
       "                                          answerText       topic\n",
       "0  If everyone thinks you're worthless, then mayb...  depression\n",
       "1  Hello, and thank you for your question and see...  depression\n",
       "2  First thing I'd suggest is getting the sleep y...  depression\n",
       "3  Therapy is essential for those that are feelin...  depression\n",
       "4  I first want to let you know that you are not ...  depression"
      ]
     },
     "execution_count": 85,
     "metadata": {},
     "output_type": "execute_result"
    }
   ],
   "source": [
    "data_a = data[[\"answerText\",\"topic\"]]\n",
    "data_a.head()"
   ]
  },
  {
   "cell_type": "code",
   "execution_count": 82,
   "metadata": {},
   "outputs": [
    {
     "data": {
      "text/plain": [
       "depression                  330\n",
       "anxiety                     249\n",
       "counseling-fundamentals     240\n",
       "intimacy                    205\n",
       "relationships               174\n",
       "parenting                   145\n",
       "family-conflict             116\n",
       "self-esteem                  83\n",
       "relationship-dissolution     76\n",
       "trauma                       66\n",
       "behavioral-change            51\n",
       "marriage                     46\n",
       "lgbtq                        38\n",
       "anger-management             38\n",
       "substance-abuse              35\n",
       "spirituality                 34\n",
       "professional-ethics          32\n",
       "workplace-relationships      26\n",
       "diagnosis                    22\n",
       "domestic-violence            21\n",
       "social-relationships         20\n",
       "grief-and-loss               18\n",
       "self-harm                    11\n",
       "sleep-improvement            10\n",
       "eating-disorders             10\n",
       "legal-regulatory              8\n",
       "stress                        7\n",
       "children-adolescents          6\n",
       "addiction                     5\n",
       "human-sexuality               4\n",
       "military-issues               3\n",
       "Name: topic, dtype: int64"
      ]
     },
     "execution_count": 82,
     "metadata": {},
     "output_type": "execute_result"
    }
   ],
   "source": [
    "data_q[\"topic\"].value_counts()"
   ]
  },
  {
   "attachments": {},
   "cell_type": "markdown",
   "metadata": {},
   "source": [
    "# model for question classification"
   ]
  },
  {
   "cell_type": "code",
   "execution_count": 106,
   "metadata": {},
   "outputs": [
    {
     "name": "stdout",
     "output_type": "stream",
     "text": [
      "Found 3758 unique tokens.\n",
      "Shape of data tensor: (2129, 250)\n",
      "Shape of label tensor: (2129, 31)\n",
      "(1703, 250) (1703, 31)\n",
      "(426, 250) (426, 31)\n"
     ]
    }
   ],
   "source": [
    "# The maximum number of words to be used. (most frequent)\n",
    "MAX_NB_WORDS = 50000\n",
    "# Max number of words in each complaint.\n",
    "MAX_SEQUENCE_LENGTH = 250\n",
    "# This is fixed.\n",
    "EMBEDDING_DIM = 100\n",
    "\n",
    "tokenizer = Tokenizer(num_words=MAX_NB_WORDS, filters='!\"#$%&()*+,-./:;<=>?@[\\]^_`{|}~', lower=True)\n",
    "tokenizer.fit_on_texts(data_q[\"questionText\"].values)\n",
    "word_index = tokenizer.word_index\n",
    "print('Found %s unique tokens.' % len(word_index))\n",
    "\n",
    "Xq = tokenizer.texts_to_sequences(data_q[\"questionText\"].values)\n",
    "Xq = pad_sequences(Xq, maxlen=MAX_SEQUENCE_LENGTH)\n",
    "print('Shape of data tensor:', Xq.shape)\n",
    "\n",
    "Yq = pd.get_dummies(data_q[\"topic\"]).values\n",
    "print('Shape of label tensor:', Yq.shape)\n",
    "\n",
    "qX_train, qX_test, qY_train, qY_test = train_test_split(Xq,Yq, test_size = 0.2, random_state = 42)\n",
    "print(qX_train.shape,qY_train.shape)\n",
    "print(qX_test.shape,qY_test.shape)"
   ]
  },
  {
   "cell_type": "code",
   "execution_count": 107,
   "metadata": {},
   "outputs": [
    {
     "name": "stdout",
     "output_type": "stream",
     "text": [
      "Model: \"sequential_6\"\n",
      "_________________________________________________________________\n",
      " Layer (type)                Output Shape              Param #   \n",
      "=================================================================\n",
      " embedding_10 (Embedding)    (None, 250, 100)          5000000   \n",
      "                                                                 \n",
      " spatial_dropout1d_6 (Spatia  (None, 250, 100)         0         \n",
      " lDropout1D)                                                     \n",
      "                                                                 \n",
      " lstm_10 (LSTM)              (None, 100)               80400     \n",
      "                                                                 \n",
      " dense_6 (Dense)             (None, 31)                3131      \n",
      "                                                                 \n",
      "=================================================================\n",
      "Total params: 5,083,531\n",
      "Trainable params: 5,083,531\n",
      "Non-trainable params: 0\n",
      "_________________________________________________________________\n",
      "None\n"
     ]
    }
   ],
   "source": [
    "modelq = Sequential()\n",
    "modelq.add(Embedding(MAX_NB_WORDS, EMBEDDING_DIM, input_length=Xq.shape[1]))\n",
    "modelq.add(SpatialDropout1D(0.2))\n",
    "modelq.add(LSTM(100, dropout=0.2, recurrent_dropout=0.2))\n",
    "modelq.add(Dense(31, activation='softmax'))\n",
    "modelq.compile(loss='categorical_crossentropy', optimizer='adam', metrics=['accuracy'])\n",
    "print(modelq.summary())"
   ]
  },
  {
   "cell_type": "code",
   "execution_count": 108,
   "metadata": {},
   "outputs": [
    {
     "name": "stdout",
     "output_type": "stream",
     "text": [
      "Epoch 1/30\n",
      "24/24 [==============================] - 32s 1s/step - loss: 3.1264 - accuracy: 0.1175 - val_loss: 2.9738 - val_accuracy: 0.0760\n",
      "Epoch 2/30\n",
      "24/24 [==============================] - 22s 917ms/step - loss: 2.8252 - accuracy: 0.1645 - val_loss: 2.8804 - val_accuracy: 0.1053\n",
      "Epoch 3/30\n",
      "24/24 [==============================] - 23s 969ms/step - loss: 2.7580 - accuracy: 0.2258 - val_loss: 2.7368 - val_accuracy: 0.1696\n",
      "Epoch 4/30\n",
      "24/24 [==============================] - 23s 941ms/step - loss: 2.5353 - accuracy: 0.2598 - val_loss: 2.5343 - val_accuracy: 0.2164\n",
      "Epoch 5/30\n",
      "24/24 [==============================] - 22s 897ms/step - loss: 2.2431 - accuracy: 0.3701 - val_loss: 2.3219 - val_accuracy: 0.3333\n",
      "Epoch 6/30\n",
      "24/24 [==============================] - 22s 917ms/step - loss: 1.9283 - accuracy: 0.4510 - val_loss: 2.1202 - val_accuracy: 0.3860\n",
      "Epoch 7/30\n",
      "24/24 [==============================] - 21s 885ms/step - loss: 1.6655 - accuracy: 0.5209 - val_loss: 1.7905 - val_accuracy: 0.4678\n",
      "Epoch 8/30\n",
      "24/24 [==============================] - 23s 948ms/step - loss: 1.3937 - accuracy: 0.5894 - val_loss: 1.6738 - val_accuracy: 0.5673\n",
      "Epoch 9/30\n",
      "24/24 [==============================] - 23s 946ms/step - loss: 1.1810 - accuracy: 0.6645 - val_loss: 1.6106 - val_accuracy: 0.5322\n",
      "Epoch 10/30\n",
      "24/24 [==============================] - 23s 940ms/step - loss: 0.9931 - accuracy: 0.7232 - val_loss: 1.5721 - val_accuracy: 0.5556\n",
      "Epoch 11/30\n",
      "24/24 [==============================] - 22s 901ms/step - loss: 0.8554 - accuracy: 0.7546 - val_loss: 1.4392 - val_accuracy: 0.6316\n",
      "Epoch 12/30\n",
      "24/24 [==============================] - 24s 1s/step - loss: 0.7718 - accuracy: 0.7996 - val_loss: 1.4333 - val_accuracy: 0.6023\n",
      "Epoch 13/30\n",
      "24/24 [==============================] - 26s 1s/step - loss: 0.6684 - accuracy: 0.8140 - val_loss: 1.4154 - val_accuracy: 0.6257\n",
      "Epoch 14/30\n",
      "24/24 [==============================] - 25s 1s/step - loss: 0.6308 - accuracy: 0.8270 - val_loss: 1.5485 - val_accuracy: 0.5789\n",
      "Epoch 15/30\n",
      "24/24 [==============================] - 24s 1s/step - loss: 0.5734 - accuracy: 0.8381 - val_loss: 1.3584 - val_accuracy: 0.6316\n",
      "Epoch 16/30\n",
      "24/24 [==============================] - 26s 1s/step - loss: 0.4676 - accuracy: 0.8695 - val_loss: 1.3317 - val_accuracy: 0.6784\n",
      "Epoch 17/30\n",
      "24/24 [==============================] - 28s 1s/step - loss: 0.4097 - accuracy: 0.8864 - val_loss: 1.3017 - val_accuracy: 0.6491\n",
      "Epoch 18/30\n",
      "24/24 [==============================] - 26s 1s/step - loss: 0.3691 - accuracy: 0.8923 - val_loss: 1.2887 - val_accuracy: 0.6667\n",
      "Epoch 19/30\n",
      "24/24 [==============================] - 22s 915ms/step - loss: 0.3216 - accuracy: 0.8995 - val_loss: 1.2930 - val_accuracy: 0.6725\n",
      "Epoch 20/30\n",
      "24/24 [==============================] - 22s 904ms/step - loss: 0.3125 - accuracy: 0.9073 - val_loss: 1.2443 - val_accuracy: 0.6784\n",
      "Epoch 21/30\n",
      "24/24 [==============================] - 22s 924ms/step - loss: 0.3050 - accuracy: 0.9008 - val_loss: 1.4632 - val_accuracy: 0.6608\n",
      "Epoch 22/30\n",
      "24/24 [==============================] - 22s 895ms/step - loss: 0.2832 - accuracy: 0.9191 - val_loss: 1.2828 - val_accuracy: 0.6901\n",
      "Epoch 23/30\n",
      "24/24 [==============================] - 20s 851ms/step - loss: 0.2842 - accuracy: 0.9106 - val_loss: 1.2161 - val_accuracy: 0.6959\n",
      "Epoch 24/30\n",
      "24/24 [==============================] - 21s 884ms/step - loss: 0.2361 - accuracy: 0.9171 - val_loss: 1.2091 - val_accuracy: 0.7076\n",
      "Epoch 25/30\n",
      "24/24 [==============================] - 21s 862ms/step - loss: 0.2021 - accuracy: 0.9256 - val_loss: 1.2328 - val_accuracy: 0.7076\n",
      "Epoch 26/30\n",
      "24/24 [==============================] - 21s 863ms/step - loss: 0.2022 - accuracy: 0.9275 - val_loss: 1.3414 - val_accuracy: 0.6784\n",
      "Epoch 27/30\n",
      "24/24 [==============================] - 21s 857ms/step - loss: 0.2075 - accuracy: 0.9262 - val_loss: 1.2719 - val_accuracy: 0.6842\n",
      "Epoch 28/30\n",
      "24/24 [==============================] - 20s 853ms/step - loss: 0.1967 - accuracy: 0.9275 - val_loss: 1.2922 - val_accuracy: 0.6959\n",
      "Epoch 29/30\n",
      "24/24 [==============================] - 21s 866ms/step - loss: 0.1783 - accuracy: 0.9275 - val_loss: 1.2422 - val_accuracy: 0.6959\n",
      "Epoch 30/30\n",
      "24/24 [==============================] - 21s 872ms/step - loss: 0.1752 - accuracy: 0.9315 - val_loss: 1.3274 - val_accuracy: 0.7193\n"
     ]
    }
   ],
   "source": [
    "epochs = 30\n",
    "batch_size = 64\n",
    "\n",
    "history = modelq.fit(qX_train, qY_train, epochs=epochs, batch_size=batch_size,validation_split=0.1)"
   ]
  },
  {
   "cell_type": "code",
   "execution_count": 109,
   "metadata": {},
   "outputs": [],
   "source": [
    "modelq.save(\"modelq.h5\")"
   ]
  },
  {
   "cell_type": "code",
   "execution_count": 110,
   "metadata": {},
   "outputs": [
    {
     "data": {
      "text/plain": [
       "[<matplotlib.lines.Line2D at 0x1eac5409340>]"
      ]
     },
     "execution_count": 110,
     "metadata": {},
     "output_type": "execute_result"
    },
    {
     "data": {
      "text/plain": [
       "[<matplotlib.lines.Line2D at 0x1eac5409730>]"
      ]
     },
     "execution_count": 110,
     "metadata": {},
     "output_type": "execute_result"
    },
    {
     "data": {
      "text/plain": [
       "<matplotlib.legend.Legend at 0x1eac53ff370>"
      ]
     },
     "execution_count": 110,
     "metadata": {},
     "output_type": "execute_result"
    },
    {
     "data": {
      "image/png": "[encoded data removed]",
      "text/plain": [
       "<Figure size 432x288 with 1 Axes>"
      ]
     },
     "metadata": {
      "needs_background": "light"
     },
     "output_type": "display_data"
    }
   ],
   "source": [
    "plt.plot(history.history['accuracy'],label=\"Training accuracy\")\n",
    "plt.plot(history.history['loss'],label=\"Traning Loss\")\n",
    "plt.legend()"
   ]
  },
  {
   "cell_type": "code",
   "execution_count": 111,
   "metadata": {},
   "outputs": [],
   "source": [
    "modelq = keras.models.load_model(\"modelq.h5\")"
   ]
  },
  {
   "cell_type": "code",
   "execution_count": 112,
   "metadata": {},
   "outputs": [
    {
     "name": "stdout",
     "output_type": "stream",
     "text": [
      "14/14 [==============================] - 3s 78ms/step - loss: 1.1766 - accuracy: 0.7160\n",
      "Test set\n",
      "  Loss: 1.177\n",
      "  Accuracy: 0.716\n"
     ]
    }
   ],
   "source": [
    "accr = modelq.evaluate(qX_test,qY_test)\n",
    "print('Test set\\n  Loss: {:0.3f}\\n  Accuracy: {:0.3f}'.format(accr[0],accr[1]))"
   ]
  },
  {
   "cell_type": "code",
   "execution_count": 119,
   "metadata": {},
   "outputs": [],
   "source": [
    "def predq(x):\n",
    "    new_complaint = [x]\n",
    "    seq = tokenizer.texts_to_sequences(new_complaint)\n",
    "    padded = pad_sequences(seq, maxlen=MAX_SEQUENCE_LENGTH)\n",
    "    pred = modelq.predict(padded)\n",
    "    labels = [\"depression\",\"anxiety\",\"counseling-fundamentals\",\"intimacy\",\"relationships\",\"parenting\",\"family-conflict\",\"self-esteem\",\"relationship-dissolution\",\n",
    "    \"trauma\",\"behavioral-change\",\"marriage\",\"lgbtq\",\"anger-management\",\"substance-abuse\",\"spirituality\",\"professional-ethics\",\n",
    "    \"workplace-relationships\",\"diagnosis\",\"domestic-violence\",\"social-relationships\",\"grief-and-loss\",\"self-harm\",\"sleep-improvement\",\"eating-disorders\",\n",
    "    \"legal-regulatory\",\"stress\",\"children-adolescents\",\"addiction\",\"human-sexuality\",\"military-issues\"] \n",
    "    print(pred, labels[np.argmax(pred)])"
   ]
  },
  {
   "cell_type": "code",
   "execution_count": 122,
   "metadata": {},
   "outputs": [
    {
     "name": "stdout",
     "output_type": "stream",
     "text": [
      "1/1 [==============================] - 0s 75ms/step\n",
      "[[1.72192944e-08 2.56385874e-07 1.99270034e-05 2.94670881e-05\n",
      "  4.67793129e-08 3.35564873e-05 7.81055587e-06 3.57891666e-04\n",
      "  3.14084427e-05 1.09272534e-07 6.92013491e-05 2.78236136e-08\n",
      "  4.92186416e-07 9.99094486e-01 7.26329972e-07 1.85683155e-06\n",
      "  4.04786442e-06 2.60756234e-08 3.86980901e-05 6.89315584e-07\n",
      "  1.24158003e-04 1.55617396e-04 6.99265499e-08 3.19975697e-07\n",
      "  1.49110129e-08 7.81208291e-06 1.50298547e-06 5.19432959e-08\n",
      "  1.59871627e-06 6.63037599e-06 1.14480608e-05]] anger-management\n"
     ]
    }
   ],
   "source": [
    "predq(\"I have been married for 11 years. Within the past 2 years we have drifted far apart. We coexist together but there is very little personal interest in each other. I often feel that my husband has friends at work that he is more emotional invested in than me. I feel very alone and just uncared for. Is there anything I can do to feel reconnected?\")"
   ]
  },
  {
   "cell_type": "code",
   "execution_count": null,
   "metadata": {},
   "outputs": [],
   "source": []
  },
  {
   "cell_type": "code",
   "execution_count": null,
   "metadata": {},
   "outputs": [],
   "source": []
  },
  {
   "cell_type": "code",
   "execution_count": null,
   "metadata": {},
   "outputs": [],
   "source": []
  },
  {
   "cell_type": "code",
   "execution_count": null,
   "metadata": {},
   "outputs": [],
   "source": []
  },
  {
   "cell_type": "code",
   "execution_count": null,
   "metadata": {},
   "outputs": [],
   "source": []
  },
  {
   "cell_type": "code",
   "execution_count": null,
   "metadata": {},
   "outputs": [],
   "source": []
  },
  {
   "cell_type": "code",
   "execution_count": null,
   "metadata": {},
   "outputs": [],
   "source": []
  },
  {
   "cell_type": "code",
   "execution_count": null,
   "metadata": {},
   "outputs": [],
   "source": []
  },
  {
   "cell_type": "code",
   "execution_count": null,
   "metadata": {},
   "outputs": [],
   "source": []
  },
  {
   "cell_type": "code",
   "execution_count": null,
   "metadata": {},
   "outputs": [],
   "source": []
  },
  {
   "cell_type": "code",
   "execution_count": null,
   "metadata": {},
   "outputs": [],
   "source": []
  },
  {
   "cell_type": "code",
   "execution_count": null,
   "metadata": {},
   "outputs": [],
   "source": []
  },
  {
   "cell_type": "code",
   "execution_count": null,
   "metadata": {},
   "outputs": [],
   "source": [
    "https://towardsdatascience.com/multi-class-text-classification-with-lstm-1590bee1bd17"
   ]
  },
  {
   "cell_type": "code",
   "execution_count": null,
   "metadata": {},
   "outputs": [],
   "source": [
    "def RNNmodel():\n",
    "    inputs = Input(name='inputs',shape=[max_len])\n",
    "    layer = Embedding(max_words,50,input_length=max_len)(inputs)\n",
    "    layer = LSTM(32)(layer)\n",
    "    layer = Dense(256,name='FC1',activation='relu')(layer)\n",
    "    layer = Activation('relu')(layer)\n",
    "    layer = Dropout(0.5)(layer)\n",
    "    layer = Dense(31,name='out_layer')(layer)\n",
    "    layer = Activation('sigmoid')(layer)\n",
    "    model = Model(inputs=inputs,outputs=layer)\n",
    "    return model\n",
    "\n",
    "\n",
    "\n",
    "model = RNNmodel()\n",
    "model.summary()\n",
    "model.compile(loss='sparse_categorical_crossentropy',optimizer='rmsprop',metrics=['accuracy',tf.keras.metrics.Precision()])\n",
    "model.fit(sequences_matrix,Y_train,batch_size=128,epochs=10, validation_split=0.2)"
   ]
  }
 ],
 "metadata": {
  "kernelspec": {
   "display_name": "base",
   "language": "python",
   "name": "python3"
  },
  "language_info": {
   "codemirror_mode": {
    "name": "ipython",
    "version": 3
   },
   "file_extension": ".py",
   "mimetype": "text/x-python",
   "name": "python",
   "nbconvert_exporter": "python",
   "pygments_lexer": "ipython3",
   "version": "3.9.12"
  },
  "orig_nbformat": 4
 },
 "nbformat": 4,
 "nbformat_minor": 2
}
